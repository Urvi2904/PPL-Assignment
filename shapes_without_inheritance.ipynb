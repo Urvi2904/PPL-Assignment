{
 "cells": [
  {
   "cell_type": "code",
   "execution_count": 1,
   "metadata": {},
   "outputs": [],
   "source": [
    "class Ellipse():\n",
    "    def __init__(self, major_axis, minor_axis):\n",
    "        self.a = major_axis\n",
    "        self.b = minor_axis\n",
    "        print(\"Ellipse formed\")\n",
    "    def getArea(self):\n",
    "        return 3.14 * self.a * self.b\n",
    "    def draw(self):\n",
    "        #t = turtle.Turtle()\n",
    "        #t.penup()\n",
    "        #turtle.goto(0, 0)\n",
    "        turtle.shape(\"circle\")\n",
    "        turtle.shapesize(self.a, self.b, 1)\n",
    "        turtle.fillcolor(\"white\")\n",
    "        turtle.reset()"
   ]
  },
  {
   "cell_type": "code",
   "execution_count": 2,
   "metadata": {},
   "outputs": [],
   "source": [
    "class Circle(Ellipse):\n",
    "    def __init__(self, a):\n",
    "        self.radius = a\n",
    "        print(\"Circle formed\")\n",
    "    def getArea(self):\n",
    "        return 3.14 * self.radius * self.radius\n",
    "    def getCircumference(self):\n",
    "        return 2 * 3.14 * self.radius\n"
   ]
  },
  {
   "cell_type": "code",
   "execution_count": null,
   "metadata": {},
   "outputs": [],
   "source": []
  },
  {
   "cell_type": "code",
   "execution_count": 4,
   "metadata": {},
   "outputs": [],
   "source": [
    "class Triangle():\n",
    "    def __init__(self, side1, side2, side3):\n",
    "        self.n = 3\n",
    "        self.a = side1\n",
    "        self.b = side2\n",
    "        self.c = side3\n",
    "        print(\"Triangle created\")\n",
    "    def getPerimeter(self) :\n",
    "        self.per = self.a + self.b + self.c\n",
    "        return self.per\n",
    "    def getArea(self):\n",
    "        p = self.per\n",
    "        return (p*(p - self.a)*(p - self.b)*(p - self.c))**0.5"
   ]
  },
  {
   "cell_type": "code",
   "execution_count": 5,
   "metadata": {},
   "outputs": [],
   "source": [
    "class Rectangle():\n",
    "    def __init__(self, length, breadth):\n",
    "        self.n = 4\n",
    "        self.length = length\n",
    "        self.breadth = breadth\n",
    "    def getArea(self):\n",
    "        return self.length * self.breadth\n",
    "    def getPerimeter(self):\n",
    "        return 2*(self.length + self.breadth)\n",
    "    def draw(self):\n",
    "        import turtle\n",
    "        t = turtle.Turtle()\n",
    "        t.penup()\n",
    "        t.goto(0, 0)\n",
    "        for i in [0, 1] :\n",
    "            t.forward(self.length)\n",
    "            t.left(90)\n",
    "            t.forward(self.breadth)\n",
    "            t.left(90)\n",
    "    def __del__(self):\n",
    "        print(\"In destructor.\")"
   ]
  },
  {
   "cell_type": "code",
   "execution_count": 6,
   "metadata": {},
   "outputs": [],
   "source": [
    "class Square():\n",
    "    def __init__(self, side):\n",
    "        self.n = 4\n",
    "        self.length = side\n",
    "    def getArea(self):\n",
    "        return self.length * self.length\n",
    "    def getPerimeter(self):\n",
    "        return 4*self.length\n",
    "    def angle(self):\n",
    "        print(\"Angle between sides in degrees : \")\n",
    "        total = 180 * (self.n - 2)\n",
    "        return total / self.n\n",
    "    def draw(self):\n",
    "        import turtle\n",
    "        t = turtle.Turtle()\n",
    "        t.penup()\n",
    "        t.goto(0, 0)\n",
    "        for i in [0, 1] :\n",
    "            t.forward(self.length)\n",
    "            t.left(90)\n",
    "            t.forward(self.breadth)\n",
    "            t.left(90)\n",
    "    def __del__(self):\n",
    "        print(\"In destructor.\")"
   ]
  },
  {
   "cell_type": "code",
   "execution_count": 8,
   "metadata": {},
   "outputs": [],
   "source": [
    "s = Square(5)"
   ]
  },
  {
   "cell_type": "code",
   "execution_count": 10,
   "metadata": {},
   "outputs": [
    {
     "name": "stdout",
     "output_type": "stream",
     "text": [
      "Angle between sides in degrees : \n"
     ]
    },
    {
     "data": {
      "text/plain": [
       "90.0"
      ]
     },
     "execution_count": 10,
     "metadata": {},
     "output_type": "execute_result"
    }
   ],
   "source": [
    "s.angle()"
   ]
  },
  {
   "cell_type": "code",
   "execution_count": 11,
   "metadata": {},
   "outputs": [],
   "source": [
    "class Pentagon():\n",
    "    def __init__(self, length):\n",
    "        self.n = 5\n",
    "        self.length = length\n",
    "        print(\"Pentagon created.\")\n",
    "    def getArea(self):\n",
    "        return (((5 * (5 + 2*(5**0.5))) ** 0.5) * (self.length ** 2)) / 4\n",
    "    def angle(self):\n",
    "        print(\"Angle between sides in degrees : \")\n",
    "        total = 180 * (self.n - 2)"
   ]
  },
  {
   "cell_type": "code",
   "execution_count": 13,
   "metadata": {},
   "outputs": [],
   "source": [
    "class Hexagon():\n",
    "    def __init__(self, length):\n",
    "        self.n = 6\n",
    "        self.length = length\n",
    "        print(\"Hexagon created.\")\n",
    "    def getArea(self):\n",
    "        return (3 * (3 ** 0.5) * (self.length ** 2)) / 2\n",
    "    def angle(self):\n",
    "        print(\"Angle between sides in degrees : \")\n",
    "        total = 180 * (self.n - 2)"
   ]
  },
  {
   "cell_type": "code",
   "execution_count": 15,
   "metadata": {},
   "outputs": [],
   "source": [
    "import math\n",
    "class Parallelogram():\n",
    "    def __init__(self, length, breadth):\n",
    "        self.n = 4\n",
    "        self.length = length\n",
    "        self.breadth = breadth\n",
    "    def getAngle(self, angle):\n",
    "        self.angle = math.radians(angle)\n",
    "    def getPerimeter(self):\n",
    "        return 2*(self.length + self.breadth)\n",
    "    def getArea(self):\n",
    "        return self.breadth * math.sin(self.angle) * self.length\n",
    "    def draw(self):\n",
    "        import turtle\n",
    "        t = turtle.Turtle()\n",
    "        t.penup()\n",
    "        t.goto(0, 0)\n",
    "        for i in [0, 1] :\n",
    "            t.forward(self.length)\n",
    "            t.left(180 - math.degrees(self.angle))\n",
    "            t.forward(self.breadth)\n",
    "            t.left(math.degrees(self.angle)) "
   ]
  },
  {
   "cell_type": "code",
   "execution_count": 16,
   "metadata": {},
   "outputs": [],
   "source": [
    "class Rhombus():\n",
    "    def __init__(self, side):\n",
    "        self.n = 4\n",
    "        self.length = side\n",
    "    def getAngle(self, angle):\n",
    "        self.angle = math.radians(angle)\n",
    "    def getArea(self):\n",
    "        return self.breadth * math.sin(self.angle) * self.length\n",
    "    def getPerimeter(self):\n",
    "        return 4*self.length"
   ]
  },
  {
   "cell_type": "code",
   "execution_count": 17,
   "metadata": {},
   "outputs": [],
   "source": [
    "class EquiTriangle():\n",
    "    def __init__(self, side):\n",
    "        self.n = 3\n",
    "        self.a = side\n",
    "        print(\"Triangle created\")\n",
    "    def getPerimeter(self) :\n",
    "        return 3*self.a\n",
    "    def getArea(self):\n",
    "        p = self.per\n",
    "        return (3**0.5)*(self.a ** 2)/4"
   ]
  },
  {
   "cell_type": "code",
   "execution_count": null,
   "metadata": {},
   "outputs": [],
   "source": []
  }
 ],
 "metadata": {
  "kernelspec": {
   "display_name": "Python 3",
   "language": "python",
   "name": "python3"
  },
  "language_info": {
   "codemirror_mode": {
    "name": "ipython",
    "version": 3
   },
   "file_extension": ".py",
   "mimetype": "text/x-python",
   "name": "python",
   "nbconvert_exporter": "python",
   "pygments_lexer": "ipython3",
   "version": "3.7.4"
  }
 },
 "nbformat": 4,
 "nbformat_minor": 2
}
