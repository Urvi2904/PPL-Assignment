{
 "cells": [
  {
   "cell_type": "markdown",
   "metadata": {
    "scrolled": true
   },
   "source": [
    "# Inheritance"
   ]
  },
  {
   "cell_type": "code",
   "execution_count": 80,
   "metadata": {},
   "outputs": [],
   "source": [
    "import turtle"
   ]
  },
  {
   "cell_type": "code",
   "execution_count": 81,
   "metadata": {},
   "outputs": [],
   "source": [
    "class Ellipse():\n",
    "    def __init__(self, major_axis, minor_axis):\n",
    "        self.a = major_axis\n",
    "        self.b = minor_axis\n",
    "        print(\"Ellipse formed\")\n",
    "    def getArea(self):\n",
    "        return 3.14 * self.a * self.b\n",
    "    def draw(self):\n",
    "        #t = turtle.Turtle()\n",
    "        #t.penup()\n",
    "        #turtle.goto(0, 0)\n",
    "        turtle.shape(\"circle\")\n",
    "        turtle.shapesize(self.a, self.b, 1)\n",
    "        turtle.fillcolor(\"white\")\n",
    "        turtle.reset()"
   ]
  },
  {
   "cell_type": "code",
   "execution_count": 82,
   "metadata": {},
   "outputs": [],
   "source": [
    "class Circle(Ellipse):\n",
    "    def __init__(self, a):\n",
    "        self.a = self.b = a\n",
    "        print(\"Circle formed\")\n",
    "    def getCircumference(self):\n",
    "        return 2 * 3.14 * self.a\n",
    "\n"
   ]
  },
  {
   "cell_type": "code",
   "execution_count": 83,
   "metadata": {},
   "outputs": [
    {
     "name": "stdout",
     "output_type": "stream",
     "text": [
      "Ellipse formed\n"
     ]
    }
   ],
   "source": [
    "e = Ellipse(3, 8)"
   ]
  },
  {
   "cell_type": "code",
   "execution_count": 84,
   "metadata": {},
   "outputs": [
    {
     "name": "stdout",
     "output_type": "stream",
     "text": [
      "Circle formed\n"
     ]
    }
   ],
   "source": [
    "c = Circle(3)"
   ]
  },
  {
   "cell_type": "code",
   "execution_count": 71,
   "metadata": {},
   "outputs": [
    {
     "data": {
      "text/plain": [
       "28.259999999999998"
      ]
     },
     "execution_count": 71,
     "metadata": {},
     "output_type": "execute_result"
    }
   ],
   "source": [
    "c.getArea()"
   ]
  },
  {
   "cell_type": "code",
   "execution_count": 72,
   "metadata": {},
   "outputs": [
    {
     "data": {
      "text/plain": [
       "75.36"
      ]
     },
     "execution_count": 72,
     "metadata": {},
     "output_type": "execute_result"
    }
   ],
   "source": [
    "e.getArea()"
   ]
  },
  {
   "cell_type": "code",
   "execution_count": 85,
   "metadata": {},
   "outputs": [],
   "source": [
    "c.draw()"
   ]
  },
  {
   "cell_type": "code",
   "execution_count": 86,
   "metadata": {},
   "outputs": [
    {
     "ename": "Terminator",
     "evalue": "",
     "output_type": "error",
     "traceback": [
      "\u001b[0;31m---------------------------------------------------------------------------\u001b[0m",
      "\u001b[0;31mTerminator\u001b[0m                                Traceback (most recent call last)",
      "\u001b[0;32m<ipython-input-86-42f5d625a78d>\u001b[0m in \u001b[0;36m<module>\u001b[0;34m\u001b[0m\n\u001b[0;32m----> 1\u001b[0;31m \u001b[0me\u001b[0m\u001b[0;34m.\u001b[0m\u001b[0mdraw\u001b[0m\u001b[0;34m(\u001b[0m\u001b[0;34m)\u001b[0m\u001b[0;34m\u001b[0m\u001b[0;34m\u001b[0m\u001b[0m\n\u001b[0m",
      "\u001b[0;32m<ipython-input-81-6deeb34ab1d3>\u001b[0m in \u001b[0;36mdraw\u001b[0;34m(self)\u001b[0m\n\u001b[1;32m     11\u001b[0m         \u001b[0;31m#turtle.goto(0, 0)\u001b[0m\u001b[0;34m\u001b[0m\u001b[0;34m\u001b[0m\u001b[0;34m\u001b[0m\u001b[0m\n\u001b[1;32m     12\u001b[0m         \u001b[0mturtle\u001b[0m\u001b[0;34m.\u001b[0m\u001b[0mshape\u001b[0m\u001b[0;34m(\u001b[0m\u001b[0;34m\"circle\"\u001b[0m\u001b[0;34m)\u001b[0m\u001b[0;34m\u001b[0m\u001b[0;34m\u001b[0m\u001b[0m\n\u001b[0;32m---> 13\u001b[0;31m         \u001b[0mturtle\u001b[0m\u001b[0;34m.\u001b[0m\u001b[0mshapesize\u001b[0m\u001b[0;34m(\u001b[0m\u001b[0mself\u001b[0m\u001b[0;34m.\u001b[0m\u001b[0ma\u001b[0m\u001b[0;34m,\u001b[0m \u001b[0mself\u001b[0m\u001b[0;34m.\u001b[0m\u001b[0mb\u001b[0m\u001b[0;34m,\u001b[0m \u001b[0;36m1\u001b[0m\u001b[0;34m)\u001b[0m\u001b[0;34m\u001b[0m\u001b[0;34m\u001b[0m\u001b[0m\n\u001b[0m\u001b[1;32m     14\u001b[0m         \u001b[0mturtle\u001b[0m\u001b[0;34m.\u001b[0m\u001b[0mfillcolor\u001b[0m\u001b[0;34m(\u001b[0m\u001b[0;34m\"white\"\u001b[0m\u001b[0;34m)\u001b[0m\u001b[0;34m\u001b[0m\u001b[0;34m\u001b[0m\u001b[0m\n\u001b[1;32m     15\u001b[0m         \u001b[0mturtle\u001b[0m\u001b[0;34m.\u001b[0m\u001b[0mreset\u001b[0m\u001b[0;34m(\u001b[0m\u001b[0;34m)\u001b[0m\u001b[0;34m\u001b[0m\u001b[0;34m\u001b[0m\u001b[0m\n",
      "\u001b[0;32m~/anaconda3/lib/python3.7/turtle.py\u001b[0m in \u001b[0;36mshapesize\u001b[0;34m(stretch_wid, stretch_len, outline)\u001b[0m\n",
      "\u001b[0;31mTerminator\u001b[0m: "
     ]
    }
   ],
   "source": [
    "e.draw()"
   ]
  },
  {
   "cell_type": "code",
   "execution_count": null,
   "metadata": {},
   "outputs": [],
   "source": []
  },
  {
   "cell_type": "code",
   "execution_count": 10,
   "metadata": {},
   "outputs": [],
   "source": [
    "#colour\n",
    "#scale\n",
    "#rotate\n",
    "#mirror\n",
    "#\n",
    "#square\n",
    "#rect\n",
    "#triangle\n",
    "#pentagon\n",
    "#rhombus\n",
    "#parallelogram\n",
    "#ellipse\n",
    "#reg_polygon\n",
    "#\n",
    "#"
   ]
  },
  {
   "cell_type": "code",
   "execution_count": null,
   "metadata": {},
   "outputs": [],
   "source": []
  },
  {
   "cell_type": "code",
   "execution_count": 87,
   "metadata": {},
   "outputs": [],
   "source": [
    "\n",
    "import turtle \n",
    "class RegularPolygon():\n",
    "    def __init__(self, sides, length):\n",
    "        self.n = sides\n",
    "        self.length = length\n",
    "    def angle(self):\n",
    "        print(\"Angle between sides in degrees : \")\n",
    "        self.total = 180 * (self.n - 2)\n",
    "        return self.total / self.n\n",
    "    def getPerimeter(self) :\n",
    "        return  self.length * self.n\n",
    "    def draw(self): \n",
    "        turtle.penup()\n",
    "        turtle.goto(0, 0)\n",
    "        for i in range(self.n): \n",
    "            turtle.forward(self.length) \n",
    "            turtle.right(self.total / self.n) \n",
    "    def __del_(self) :\n",
    "            print(\"In destructor\")"
   ]
  },
  {
   "cell_type": "code",
   "execution_count": 96,
   "metadata": {},
   "outputs": [],
   "source": [
    "class EquiTriangle(RegularPolygon):\n",
    "    def __init__(self, length):\n",
    "        self.n = 3\n",
    "        self.length = length\n",
    "        print(\"Triangle created\")\n",
    "    def getArea(self):\n",
    "        return (3 ** 0.5) * (self.length ** 2)"
   ]
  },
  {
   "cell_type": "code",
   "execution_count": 89,
   "metadata": {},
   "outputs": [
    {
     "name": "stdout",
     "output_type": "stream",
     "text": [
      "Triangle created\n"
     ]
    }
   ],
   "source": [
    "t = Triangle(4)"
   ]
  },
  {
   "cell_type": "code",
   "execution_count": null,
   "metadata": {},
   "outputs": [],
   "source": [
    "class Triangle():\n",
    "    def __init__(self, side1, side2, side3):\n",
    "        self.n = 3\n",
    "        self.a = side1\n",
    "        self.b = side2\n",
    "        self.c = side3\n",
    "        print(\"Triangle created\")\n",
    "    def getPerimeter(self) :\n",
    "        self.per = self.a + self.b + self.c\n",
    "        return self.per\n",
    "    def getArea(self):\n",
    "        p = self.per\n",
    "        return (p*(p - self.a)*(p - self.b)*(p - self.c))**0.5"
   ]
  },
  {
   "cell_type": "code",
   "execution_count": 90,
   "metadata": {},
   "outputs": [
    {
     "data": {
      "text/plain": [
       "12"
      ]
     },
     "execution_count": 90,
     "metadata": {},
     "output_type": "execute_result"
    }
   ],
   "source": [
    "t.getPerimeter()"
   ]
  },
  {
   "cell_type": "code",
   "execution_count": 91,
   "metadata": {},
   "outputs": [
    {
     "data": {
      "text/plain": [
       "27.712812921102035"
      ]
     },
     "execution_count": 91,
     "metadata": {},
     "output_type": "execute_result"
    }
   ],
   "source": [
    "t.getArea()"
   ]
  },
  {
   "cell_type": "code",
   "execution_count": 92,
   "metadata": {},
   "outputs": [],
   "source": [
    "class Rectangle():\n",
    "    def __init__(self, length, breadth):\n",
    "        self.n = 4\n",
    "        self.length = length\n",
    "        self.breadth = breadth\n",
    "    def getArea(self):\n",
    "        return self.length * self.breadth\n",
    "    def getPerimeter(self):\n",
    "        return 2*(self.length + self.breadth)\n",
    "    def draw(self):\n",
    "        import turtle\n",
    "        t = turtle.Turtle()\n",
    "        t.penup()\n",
    "        t.goto(0, 0)\n",
    "        for i in [0, 1] :\n",
    "            t.forward(self.length)\n",
    "            t.left(90)\n",
    "            t.forward(self.breadth)\n",
    "            t.left(90)\n",
    "    def __del__(self):\n",
    "        print(\"In destructor.\")"
   ]
  },
  {
   "cell_type": "code",
   "execution_count": 93,
   "metadata": {},
   "outputs": [],
   "source": [
    "class Square(Rectangle, RegularPolygon):\n",
    "    def __init__(self, length):\n",
    "        self.n = 4\n",
    "        self.length = length\n",
    "        self.breadth = length"
   ]
  },
  {
   "cell_type": "code",
   "execution_count": 94,
   "metadata": {},
   "outputs": [],
   "source": [
    "s = Rectangle(5, 8)"
   ]
  },
  {
   "cell_type": "code",
   "execution_count": 95,
   "metadata": {},
   "outputs": [],
   "source": [
    "s.draw()"
   ]
  },
  {
   "cell_type": "code",
   "execution_count": 20,
   "metadata": {},
   "outputs": [],
   "source": [
    "class Pentagon(RegularPolygon):\n",
    "    def __init__(self, length):\n",
    "        self.n = 5\n",
    "        self.length = length\n",
    "        print(\"Pentagon created.\")\n",
    "    def getArea(self):\n",
    "        return (((5 * (5 + 2*(5**0.5))) ** 0.5) * (self.length ** 2)) / 4"
   ]
  },
  {
   "cell_type": "code",
   "execution_count": 21,
   "metadata": {},
   "outputs": [],
   "source": [
    "class Hexagon(RegularPolygon):\n",
    "    def __init__(self, length):\n",
    "        self.n = 6\n",
    "        self.length = length\n",
    "        print(\"Hexagon created.\")\n",
    "    def getArea(self):\n",
    "        return (3 * (3 ** 0.5) * (self.length ** 2)) / 2"
   ]
  },
  {
   "cell_type": "code",
   "execution_count": 22,
   "metadata": {},
   "outputs": [
    {
     "name": "stdout",
     "output_type": "stream",
     "text": [
      "Hexagon created.\n"
     ]
    }
   ],
   "source": [
    "p = Hexagon(6)"
   ]
  },
  {
   "cell_type": "code",
   "execution_count": 23,
   "metadata": {},
   "outputs": [
    {
     "data": {
      "text/plain": [
       "93.53074360871938"
      ]
     },
     "execution_count": 23,
     "metadata": {},
     "output_type": "execute_result"
    }
   ],
   "source": [
    "p.getArea()"
   ]
  },
  {
   "cell_type": "code",
   "execution_count": 24,
   "metadata": {},
   "outputs": [],
   "source": [
    "import math\n",
    "class Parallelogram(Rectangle):\n",
    "    def getAngle(self, angle):\n",
    "        self.angle = math.radians(angle)\n",
    "    def getArea(self):\n",
    "        return self.breadth * math.sin(self.angle) * self.length\n",
    "    def draw(self):\n",
    "        import turtle\n",
    "        t = turtle.Turtle()\n",
    "        t.penup()\n",
    "        t.goto(0, 0)\n",
    "        for i in [0, 1] :\n",
    "            t.forward(self.length)\n",
    "            t.left(180 - math.degrees(self.angle))\n",
    "            t.forward(self.breadth)\n",
    "            t.left(math.degrees(self.angle)) "
   ]
  },
  {
   "cell_type": "code",
   "execution_count": 25,
   "metadata": {},
   "outputs": [],
   "source": [
    "p = Parallelogram(5, 4)"
   ]
  },
  {
   "cell_type": "code",
   "execution_count": 26,
   "metadata": {},
   "outputs": [],
   "source": [
    "p.getAngle(37)"
   ]
  },
  {
   "cell_type": "code",
   "execution_count": 27,
   "metadata": {},
   "outputs": [],
   "source": [
    "p.draw()"
   ]
  },
  {
   "cell_type": "code",
   "execution_count": 28,
   "metadata": {},
   "outputs": [],
   "source": [
    "class Rhombus(Square, Parallelogram):\n",
    "    def print(self):\n",
    "        print(\"In rhombus\")"
   ]
  },
  {
   "cell_type": "code",
   "execution_count": 29,
   "metadata": {},
   "outputs": [
    {
     "data": {
      "text/plain": [
       "7.999999999999999"
      ]
     },
     "execution_count": 29,
     "metadata": {},
     "output_type": "execute_result"
    }
   ],
   "source": [
    "r1 = Rhombus(4)\n",
    "r1.getAngle(30)\n",
    "r1.getArea()"
   ]
  }
 ],
 "metadata": {
  "kernelspec": {
   "display_name": "Python 3",
   "language": "python",
   "name": "python3"
  },
  "language_info": {
   "codemirror_mode": {
    "name": "ipython",
    "version": 3
   },
   "file_extension": ".py",
   "mimetype": "text/x-python",
   "name": "python",
   "nbconvert_exporter": "python",
   "pygments_lexer": "ipython3",
   "version": "3.7.4"
  }
 },
 "nbformat": 4,
 "nbformat_minor": 2
}
